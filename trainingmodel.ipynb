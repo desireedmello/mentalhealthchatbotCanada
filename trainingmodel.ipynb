{
 "cells": [
  {
   "cell_type": "markdown",
   "metadata": {},
   "source": [
    "# Installing required packages"
   ]
  },
  {
   "cell_type": "code",
   "execution_count": 1,
   "metadata": {},
   "outputs": [
    {
     "name": "stdout",
     "output_type": "stream",
     "text": [
      "Requirement already satisfied: tensorflow in f:\\mentalhealthcanada\\venv\\lib\\site-packages (2.5.0)\n",
      "Requirement already satisfied: wheel~=0.35 in f:\\mentalhealthcanada\\venv\\lib\\site-packages (from tensorflow) (0.36.2)\n",
      "Requirement already satisfied: tensorboard~=2.5 in f:\\mentalhealthcanada\\venv\\lib\\site-packages (from tensorflow) (2.6.0)\n",
      "Requirement already satisfied: protobuf>=3.9.2 in f:\\mentalhealthcanada\\venv\\lib\\site-packages (from tensorflow) (3.17.3)\n",
      "Requirement already satisfied: gast==0.4.0 in f:\\mentalhealthcanada\\venv\\lib\\site-packages (from tensorflow) (0.4.0)\n",
      "Requirement already satisfied: six~=1.15.0 in f:\\mentalhealthcanada\\venv\\lib\\site-packages (from tensorflow) (1.15.0)\n",
      "Requirement already satisfied: flatbuffers~=1.12.0 in f:\\mentalhealthcanada\\venv\\lib\\site-packages (from tensorflow) (1.12)\n",
      "Requirement already satisfied: google-pasta~=0.2 in f:\\mentalhealthcanada\\venv\\lib\\site-packages (from tensorflow) (0.2.0)\n",
      "Requirement already satisfied: keras-preprocessing~=1.1.2 in f:\\mentalhealthcanada\\venv\\lib\\site-packages (from tensorflow) (1.1.2)\n",
      "Requirement already satisfied: wrapt~=1.12.1 in f:\\mentalhealthcanada\\venv\\lib\\site-packages (from tensorflow) (1.12.1)\n",
      "Requirement already satisfied: grpcio~=1.34.0 in f:\\mentalhealthcanada\\venv\\lib\\site-packages (from tensorflow) (1.34.1)\n",
      "Requirement already satisfied: astunparse~=1.6.3 in f:\\mentalhealthcanada\\venv\\lib\\site-packages (from tensorflow) (1.6.3)\n",
      "Requirement already satisfied: typing-extensions~=3.7.4 in f:\\mentalhealthcanada\\venv\\lib\\site-packages (from tensorflow) (3.7.4.3)\n",
      "Requirement already satisfied: h5py~=3.1.0 in f:\\mentalhealthcanada\\venv\\lib\\site-packages (from tensorflow) (3.1.0)\n",
      "Requirement already satisfied: opt-einsum~=3.3.0 in f:\\mentalhealthcanada\\venv\\lib\\site-packages (from tensorflow) (3.3.0)\n",
      "Requirement already satisfied: absl-py~=0.10 in f:\\mentalhealthcanada\\venv\\lib\\site-packages (from tensorflow) (0.13.0)\n",
      "Requirement already satisfied: termcolor~=1.1.0 in f:\\mentalhealthcanada\\venv\\lib\\site-packages (from tensorflow) (1.1.0)\n",
      "Requirement already satisfied: numpy~=1.19.2 in f:\\mentalhealthcanada\\venv\\lib\\site-packages (from tensorflow) (1.19.5)\n",
      "Requirement already satisfied: tensorflow-estimator<2.6.0,>=2.5.0rc0 in f:\\mentalhealthcanada\\venv\\lib\\site-packages (from tensorflow) (2.5.0)\n",
      "Requirement already satisfied: keras-nightly~=2.5.0.dev in f:\\mentalhealthcanada\\venv\\lib\\site-packages (from tensorflow) (2.5.0.dev2021032900)\n",
      "Requirement already satisfied: tensorboard-plugin-wit>=1.6.0 in f:\\mentalhealthcanada\\venv\\lib\\site-packages (from tensorboard~=2.5->tensorflow) (1.8.0)\n",
      "Requirement already satisfied: setuptools>=41.0.0 in f:\\mentalhealthcanada\\venv\\lib\\site-packages (from tensorboard~=2.5->tensorflow) (57.0.0)\n",
      "Requirement already satisfied: tensorboard-data-server<0.7.0,>=0.6.0 in f:\\mentalhealthcanada\\venv\\lib\\site-packages (from tensorboard~=2.5->tensorflow) (0.6.1)\n",
      "Requirement already satisfied: google-auth<2,>=1.6.3 in f:\\mentalhealthcanada\\venv\\lib\\site-packages (from tensorboard~=2.5->tensorflow) (1.34.0)\n",
      "Requirement already satisfied: google-auth-oauthlib<0.5,>=0.4.1 in f:\\mentalhealthcanada\\venv\\lib\\site-packages (from tensorboard~=2.5->tensorflow) (0.4.5)\n",
      "Requirement already satisfied: markdown>=2.6.8 in f:\\mentalhealthcanada\\venv\\lib\\site-packages (from tensorboard~=2.5->tensorflow) (3.3.4)\n",
      "Requirement already satisfied: requests<3,>=2.21.0 in f:\\mentalhealthcanada\\venv\\lib\\site-packages (from tensorboard~=2.5->tensorflow) (2.26.0)\n",
      "Requirement already satisfied: werkzeug>=0.11.15 in f:\\mentalhealthcanada\\venv\\lib\\site-packages (from tensorboard~=2.5->tensorflow) (2.0.1)\n",
      "Requirement already satisfied: pyasn1-modules>=0.2.1 in f:\\mentalhealthcanada\\venv\\lib\\site-packages (from google-auth<2,>=1.6.3->tensorboard~=2.5->tensorflow) (0.2.8)\n",
      "Requirement already satisfied: cachetools<5.0,>=2.0.0 in f:\\mentalhealthcanada\\venv\\lib\\site-packages (from google-auth<2,>=1.6.3->tensorboard~=2.5->tensorflow) (4.2.2)\n",
      "Requirement already satisfied: rsa<5,>=3.1.4 in f:\\mentalhealthcanada\\venv\\lib\\site-packages (from google-auth<2,>=1.6.3->tensorboard~=2.5->tensorflow) (4.7.2)\n",
      "Requirement already satisfied: requests-oauthlib>=0.7.0 in f:\\mentalhealthcanada\\venv\\lib\\site-packages (from google-auth-oauthlib<0.5,>=0.4.1->tensorboard~=2.5->tensorflow) (1.3.0)\n",
      "Requirement already satisfied: pyasn1<0.5.0,>=0.4.6 in f:\\mentalhealthcanada\\venv\\lib\\site-packages (from pyasn1-modules>=0.2.1->google-auth<2,>=1.6.3->tensorboard~=2.5->tensorflow) (0.4.8)\n",
      "Requirement already satisfied: idna<4,>=2.5 in f:\\mentalhealthcanada\\venv\\lib\\site-packages (from requests<3,>=2.21.0->tensorboard~=2.5->tensorflow) (3.2)\n",
      "Requirement already satisfied: charset-normalizer~=2.0.0 in f:\\mentalhealthcanada\\venv\\lib\\site-packages (from requests<3,>=2.21.0->tensorboard~=2.5->tensorflow) (2.0.4)\n",
      "Requirement already satisfied: urllib3<1.27,>=1.21.1 in f:\\mentalhealthcanada\\venv\\lib\\site-packages (from requests<3,>=2.21.0->tensorboard~=2.5->tensorflow) (1.26.6)\n",
      "Requirement already satisfied: certifi>=2017.4.17 in f:\\mentalhealthcanada\\venv\\lib\\site-packages (from requests<3,>=2.21.0->tensorboard~=2.5->tensorflow) (2021.5.30)\n",
      "Requirement already satisfied: oauthlib>=3.0.0 in f:\\mentalhealthcanada\\venv\\lib\\site-packages (from requests-oauthlib>=0.7.0->google-auth-oauthlib<0.5,>=0.4.1->tensorboard~=2.5->tensorflow) (3.1.1)\n"
     ]
    },
    {
     "name": "stderr",
     "output_type": "stream",
     "text": [
      "WARNING: Ignoring invalid distribution -umpy (f:\\mentalhealthcanada\\venv\\lib\\site-packages)\n",
      "WARNING: Ignoring invalid distribution -umpy (f:\\mentalhealthcanada\\venv\\lib\\site-packages)\n",
      "WARNING: Ignoring invalid distribution -umpy (f:\\mentalhealthcanada\\venv\\lib\\site-packages)\n",
      "WARNING: Ignoring invalid distribution -umpy (f:\\mentalhealthcanada\\venv\\lib\\site-packages)\n",
      "WARNING: Ignoring invalid distribution -umpy (f:\\mentalhealthcanada\\venv\\lib\\site-packages)\n",
      "WARNING: Ignoring invalid distribution -umpy (f:\\mentalhealthcanada\\venv\\lib\\site-packages)\n",
      "WARNING: You are using pip version 21.1.2; however, version 21.2.3 is available.\n",
      "You should consider upgrading via the 'F:\\mentalhealthCanada\\venv\\Scripts\\python.exe -m pip install --upgrade pip' command.\n"
     ]
    }
   ],
   "source": [
    "!pip install tensorflow"
   ]
  },
  {
   "cell_type": "code",
   "execution_count": 2,
   "metadata": {
    "scrolled": true
   },
   "outputs": [
    {
     "name": "stdout",
     "output_type": "stream",
     "text": [
      "Requirement already satisfied: nltk in f:\\mentalhealthcanada\\venv\\lib\\site-packages (3.6.2)\n",
      "Requirement already satisfied: regex in f:\\mentalhealthcanada\\venv\\lib\\site-packages (from nltk) (2021.8.3)\n",
      "Requirement already satisfied: joblib in f:\\mentalhealthcanada\\venv\\lib\\site-packages (from nltk) (1.0.1)\n",
      "Requirement already satisfied: tqdm in f:\\mentalhealthcanada\\venv\\lib\\site-packages (from nltk) (4.62.0)\n",
      "Requirement already satisfied: click in f:\\mentalhealthcanada\\venv\\lib\\site-packages (from nltk) (8.0.1)\n",
      "Requirement already satisfied: colorama in f:\\mentalhealthcanada\\venv\\lib\\site-packages (from click->nltk) (0.4.4)\n"
     ]
    },
    {
     "name": "stderr",
     "output_type": "stream",
     "text": [
      "WARNING: Ignoring invalid distribution -umpy (f:\\mentalhealthcanada\\venv\\lib\\site-packages)\n",
      "WARNING: Ignoring invalid distribution -umpy (f:\\mentalhealthcanada\\venv\\lib\\site-packages)\n",
      "WARNING: Ignoring invalid distribution -umpy (f:\\mentalhealthcanada\\venv\\lib\\site-packages)\n",
      "WARNING: Ignoring invalid distribution -umpy (f:\\mentalhealthcanada\\venv\\lib\\site-packages)\n",
      "WARNING: Ignoring invalid distribution -umpy (f:\\mentalhealthcanada\\venv\\lib\\site-packages)\n",
      "WARNING: Ignoring invalid distribution -umpy (f:\\mentalhealthcanada\\venv\\lib\\site-packages)\n",
      "WARNING: You are using pip version 21.1.2; however, version 21.2.3 is available.\n",
      "You should consider upgrading via the 'F:\\mentalhealthCanada\\venv\\Scripts\\python.exe -m pip install --upgrade pip' command.\n"
     ]
    }
   ],
   "source": [
    "!pip install nltk"
   ]
  },
  {
   "cell_type": "markdown",
   "metadata": {},
   "source": [
    "# Importing required libraries"
   ]
  },
  {
   "cell_type": "code",
   "execution_count": 3,
   "metadata": {
    "scrolled": true
   },
   "outputs": [
    {
     "name": "stderr",
     "output_type": "stream",
     "text": [
      "f:\\mentalhealthcanada\\venv\\lib\\site-packages\\numpy\\_distributor_init.py:30: UserWarning: loaded more than 1 DLL from .libs:\n",
      "f:\\mentalhealthcanada\\venv\\lib\\site-packages\\numpy\\.libs\\libopenblas.WCDJNK7YVMPZQ2ME2ZZHJJRJ3JIKNDB7.gfortran-win_amd64.dll\n",
      "f:\\mentalhealthcanada\\venv\\lib\\site-packages\\numpy\\.libs\\libopenblas.XWYDX2IKJW2NMTWSFYNGFUWKQU3LYTCZ.gfortran-win_amd64.dll\n",
      "  warnings.warn(\"loaded more than 1 DLL from .libs:\"\n",
      "[nltk_data] Downloading package punkt to\n",
      "[nltk_data]     C:\\Users\\Admin\\AppData\\Roaming\\nltk_data...\n",
      "[nltk_data]   Package punkt is already up-to-date!\n",
      "[nltk_data] Downloading package wordnet to\n",
      "[nltk_data]     C:\\Users\\Admin\\AppData\\Roaming\\nltk_data...\n",
      "[nltk_data]   Package wordnet is already up-to-date!\n"
     ]
    }
   ],
   "source": [
    "import json\n",
    "import pickle\n",
    "import random\n",
    "import numpy as np\n",
    "from tensorflow.keras.models import Sequential\n",
    "from tensorflow.keras.layers import Dense, Dropout\n",
    "from tensorflow.keras.optimizers import SGD\n",
    "import nltk\n",
    "nltk.download('punkt')\n",
    "nltk.download('wordnet')\n",
    "from nltk.stem import WordNetLemmatizer"
   ]
  },
  {
   "cell_type": "markdown",
   "metadata": {
    "pycharm": {
     "name": "#%%\n"
    }
   },
   "source": [
    "# Making lists to store words, classes and documents"
   ]
  },
  {
   "cell_type": "code",
   "execution_count": 4,
   "metadata": {},
   "outputs": [],
   "source": [
    "vocabulary_list = []\n",
    "categories_list = []\n",
    "document_list = []"
   ]
  },
  {
   "cell_type": "markdown",
   "metadata": {},
   "source": [
    "# List of characters to ignore"
   ]
  },
  {
   "cell_type": "code",
   "execution_count": 5,
   "metadata": {},
   "outputs": [],
   "source": [
    "characters = ['?', '!']"
   ]
  },
  {
   "cell_type": "markdown",
   "metadata": {},
   "source": [
    "# Opening and Loading the Dataset "
   ]
  },
  {
   "cell_type": "code",
   "execution_count": 6,
   "metadata": {},
   "outputs": [],
   "source": [
    "dataset = open('mentalhealthCanada.json').read()\n",
    "intents = json.loads(dataset)"
   ]
  },
  {
   "cell_type": "markdown",
   "metadata": {},
   "source": [
    "# Updating the vocabulary, category and documents lists"
   ]
  },
  {
   "cell_type": "code",
   "execution_count": 7,
   "metadata": {},
   "outputs": [],
   "source": [
    "for intent in intents['intents']:\n",
    "    for pattern in intent['patterns']:\n",
    "\n",
    "        #Tokenizing each word from pattern into the vocabulary list\n",
    "        w = nltk.word_tokenize(pattern)\n",
    "        vocabulary_list.extend(w)\n",
    "        \n",
    "        #Adding documents into the collection (corpus)\n",
    "        document_list.append((w, intent['tag']))\n",
    "\n",
    "        #Adding unique tags into the categories list\n",
    "        if intent['tag'] not in categories_list:\n",
    "            categories_list.append(intent['tag'])"
   ]
  },
  {
   "cell_type": "markdown",
   "metadata": {},
   "source": [
    "# Text pre-processing (lower case, remove non-alphanumeric characters and lemmatize text)"
   ]
  },
  {
   "cell_type": "code",
   "execution_count": 8,
   "metadata": {},
   "outputs": [],
   "source": [
    "lemma = WordNetLemmatizer()\n",
    "vocabulary = [lemma.lemmatize(w.lower()) for w in vocabulary_list if w not in characters]\n",
    "vocabulary = sorted(list(set(vocabulary)))"
   ]
  },
  {
   "cell_type": "markdown",
   "metadata": {},
   "source": [
    "# Sorting the categories list"
   ]
  },
  {
   "cell_type": "code",
   "execution_count": 9,
   "metadata": {},
   "outputs": [],
   "source": [
    "categories = sorted(list(set(categories_list)))"
   ]
  },
  {
   "cell_type": "markdown",
   "metadata": {},
   "source": [
    "# Documents list is a combination between intents and patterns"
   ]
  },
  {
   "cell_type": "code",
   "execution_count": 10,
   "metadata": {},
   "outputs": [
    {
     "name": "stdout",
     "output_type": "stream",
     "text": [
      "177 documents\n"
     ]
    }
   ],
   "source": [
    "print (len(document_list), \"documents\")"
   ]
  },
  {
   "cell_type": "markdown",
   "metadata": {},
   "source": [
    "# Categories list is the intents"
   ]
  },
  {
   "cell_type": "code",
   "execution_count": 11,
   "metadata": {},
   "outputs": [
    {
     "name": "stdout",
     "output_type": "stream",
     "text": [
      "57 classes ['alberta_support', 'anxiety_causes', 'anxiety_disorders', 'anxiety_symptoms', 'anxiety_treatment', 'bc_support', 'bipolar_causes', 'bipolar_disorder', 'bipolar_symptoms', 'bipolar_treatment', 'canada_helpline', 'canada_support', 'depression', 'depression_causes', 'depression_symptoms', 'depression_treatment', 'eating_causes', 'eating_disorder', 'eating_symptoms', 'eating_treatment', 'generalized_disorder', 'goodbye', 'greeting', 'helpline_select', 'helpline_select_app', 'helpline_select_group', 'manitoba_support', 'mental_health', 'mental_health_illness', 'mental_illness', 'mental_illness_causes', 'mental_illness_symptoms', 'mental_illness_types', 'mental_treatment', 'nb_support', 'noanswer', 'ns_support', 'obsessive_disorder', 'ontario_support', 'options', 'panic_disorder', 'personality_causes', 'personality_disorders', 'personality_symptoms', 'personality_treatment', 'phobias', 'post_disorder', 'post_symptoms', 'quebec_support', 'saskatchewan_support', 'schizophrenia', 'schizophrenia_causes', 'schizophrenia_symptoms', 'schizophrenia_treatment', 'social_phobia', 'specific_phobia', 'thanks']\n"
     ]
    }
   ],
   "source": [
    "print (len(categories), \"classes\", categories)"
   ]
  },
  {
   "cell_type": "markdown",
   "metadata": {},
   "source": [
    "# Vocabulary list is all the unique words"
   ]
  },
  {
   "cell_type": "code",
   "execution_count": 12,
   "metadata": {},
   "outputs": [
    {
     "name": "stdout",
     "output_type": "stream",
     "text": [
      "126 Unique lemmatized words [\"'s\", ',', '.', '1', '2', '3', '4', 'a', 'about', 'alberta', 'and', 'anxiety', 'any', 'anyone', 'apps', 'are', 'available', 'awesome', 'better', 'bipolar', 'both', 'british', 'brunswick', 'bye', 'call', 'can', 'canada', 'care', 'cause', 'chat', 'chatting', 'columbia', 'concern', 'contact', 'could', 'crisis', 'day', 'depression', 'detail', 'different', 'disorder', 'do', 'eating', 'factor', 'for', 'generalized', 'get', 'give', 'good', 'goodbye', 'group', 'have', 'health', 'hello', 'help', 'helpful', 'helping', 'helpline', 'hey', 'hi', 'how', 'i', 'illness', 'in', 'information', 'is', 'issue', 'later', 'manitoba', 'me', 'mental', 'more', 'my', 'new', 'next', 'nice', 'nova', 'number', 'obsessive-compulsive', 'of', 'on', 'online', 'ontario', 'panic', 'peer', 'personality', 'phobia', 'phone', 'post-traumatic', 'provide', 'province', 'province-wise', 'quebec', 'regarding', 'resource', 'same', 'saskatchewan', 'schizophrenia', 'scotia', 'see', 'service', 'should', 'social', 'some', 'specific', 'stress', 'support', 'symptom', 'take', 'tell', 'text', 'thank', 'thanks', 'that', 'the', 'there', 'they', 'till', 'time', 'to', 'treat', 'treatment', 'type', 'what', 'who', 'you']\n"
     ]
    }
   ],
   "source": [
    "print (len(vocabulary), \"Unique lemmatized words\", vocabulary)"
   ]
  },
  {
   "cell_type": "markdown",
   "metadata": {},
   "source": [
    "# Converting the vocabulary and category lists from objects into byte-stream and storing in respective pickle files"
   ]
  },
  {
   "cell_type": "code",
   "execution_count": 13,
   "metadata": {},
   "outputs": [],
   "source": [
    "pickle.dump(vocabulary,open('vocabulary.pkl','wb'))\n",
    "pickle.dump(categories,open('categories.pkl','wb'))"
   ]
  },
  {
   "cell_type": "markdown",
   "metadata": {},
   "source": [
    "# Creating a list for the training data"
   ]
  },
  {
   "cell_type": "code",
   "execution_count": 14,
   "metadata": {},
   "outputs": [],
   "source": [
    "traininglist = []"
   ]
  },
  {
   "cell_type": "markdown",
   "metadata": {},
   "source": [
    "# Creating and empty array to store the outputs"
   ]
  },
  {
   "cell_type": "code",
   "execution_count": 15,
   "metadata": {},
   "outputs": [],
   "source": [
    "output_empty = [0] * len(categories)"
   ]
  },
  {
   "cell_type": "markdown",
   "metadata": {},
   "source": [
    "# Training set will consist of bag of words for each text sentence"
   ]
  },
  {
   "cell_type": "code",
   "execution_count": 16,
   "metadata": {},
   "outputs": [],
   "source": [
    "for doc in document_list:\n",
    "    # Creating the bag of words list\n",
    "    bagofwords = []\n",
    "    \n",
    "    # Creating a list of tokenized words for the pattern\n",
    "    pattern_words = doc[0]\n",
    "    \n",
    "    # Lemmatizing each word - Creating base lemma words in an attempt to represent relative words\n",
    "    pattern_words = [lemma.lemmatize(word.lower()) for word in pattern_words]\n",
    "    \n",
    "    # Creating the bag of words array with 1, if word match is found in the current pattern\n",
    "    for w in vocabulary:\n",
    "        bagofwords.append(1) if w in pattern_words else bagofwords.append(0)\n",
    "    \n",
    "    # Output will be '0' for each tag and '1' will be for current tag (for each pattern)\n",
    "    output_row = list(output_empty)\n",
    "    output_row[categories.index(doc[1])] = 1\n",
    "    traininglist.append([bagofwords, output_row])"
   ]
  },
  {
   "cell_type": "markdown",
   "metadata": {},
   "source": [
    "# Shuffling the features and turning them into a numpy array"
   ]
  },
  {
   "cell_type": "code",
   "execution_count": 17,
   "metadata": {},
   "outputs": [
    {
     "name": "stderr",
     "output_type": "stream",
     "text": [
      "C:\\Users\\Admin\\AppData\\Local\\Temp/ipykernel_5004/3339943570.py:2: VisibleDeprecationWarning: Creating an ndarray from ragged nested sequences (which is a list-or-tuple of lists-or-tuples-or ndarrays with different lengths or shapes) is deprecated. If you meant to do this, you must specify 'dtype=object' when creating the ndarray\n",
      "  training = np.array(traininglist)\n"
     ]
    }
   ],
   "source": [
    "random.shuffle(traininglist)\n",
    "training = np.array(traininglist)"
   ]
  },
  {
   "cell_type": "markdown",
   "metadata": {},
   "source": [
    "# Creating the training and testing lists. X is the patterns, Y is the intents"
   ]
  },
  {
   "cell_type": "code",
   "execution_count": 18,
   "metadata": {},
   "outputs": [
    {
     "name": "stdout",
     "output_type": "stream",
     "text": [
      "Training data created\n"
     ]
    }
   ],
   "source": [
    "X_train = list(training[:,0])\n",
    "Y_train = list(training[:,1])\n",
    "print(\"Training data created\")"
   ]
  },
  {
   "cell_type": "markdown",
   "metadata": {},
   "source": [
    "# Creating the model - 3 layers. First layer contains 128 neurons, second layer contains 64 neurons and third output layer contains number of neurons that are equal to number of intents for predicting the output intent with softmax"
   ]
  },
  {
   "cell_type": "code",
   "execution_count": 19,
   "metadata": {},
   "outputs": [],
   "source": [
    "# Sequential model code adapted from 'Keras' documentation\n",
    "# https://keras.io/guides/sequential_model/ [Accessed 16 July 2021].\n",
    "\n",
    "botmodel = Sequential()\n",
    "botmodel.add(Dense(128, input_shape=(len(X_train[0]),), activation='relu'))\n",
    "botmodel.add(Dropout(0.5))\n",
    "botmodel.add(Dense(64, activation='relu'))\n",
    "botmodel.add(Dropout(0.5))\n",
    "botmodel.add(Dense(len(Y_train[0]), activation='softmax'))"
   ]
  },
  {
   "cell_type": "markdown",
   "metadata": {},
   "source": [
    "# Compiling the model. Using stochastic gradient descent with Nesterov accelerated gradient gives good results for the model"
   ]
  },
  {
   "cell_type": "code",
   "execution_count": 20,
   "metadata": {},
   "outputs": [],
   "source": [
    "sgd = SGD(learning_rate=0.01, decay=1e-6, momentum=0.9, nesterov=True)\n",
    "botmodel.compile(loss='categorical_crossentropy', optimizer=sgd, metrics=['accuracy'])"
   ]
  },
  {
   "cell_type": "markdown",
   "metadata": {},
   "source": [
    "# Fitting and saving the model for future use"
   ]
  },
  {
   "cell_type": "code",
   "execution_count": 21,
   "metadata": {
    "pycharm": {
     "name": "#%%\n"
    },
    "scrolled": false
   },
   "outputs": [
    {
     "name": "stdout",
     "output_type": "stream",
     "text": [
      "Epoch 1/300\n",
      "30/30 [==============================] - 2s 4ms/step - loss: 4.0738 - accuracy: 0.0169\n",
      "Epoch 2/300\n",
      "30/30 [==============================] - 0s 5ms/step - loss: 4.0261 - accuracy: 0.0395\n",
      "Epoch 3/300\n",
      "30/30 [==============================] - 0s 5ms/step - loss: 3.9352 - accuracy: 0.0452\n",
      "Epoch 4/300\n",
      "30/30 [==============================] - 0s 5ms/step - loss: 3.8691 - accuracy: 0.0678\n",
      "Epoch 5/300\n",
      "30/30 [==============================] - 0s 4ms/step - loss: 3.8066 - accuracy: 0.0621\n",
      "Epoch 6/300\n",
      "30/30 [==============================] - 0s 6ms/step - loss: 3.6923 - accuracy: 0.0960 ETA: 0s - loss: 3.6769 - accuracy: 0.\n",
      "Epoch 7/300\n",
      "30/30 [==============================] - 0s 7ms/step - loss: 3.5459 - accuracy: 0.1186\n",
      "Epoch 8/300\n",
      "30/30 [==============================] - 0s 5ms/step - loss: 3.4423 - accuracy: 0.1186\n",
      "Epoch 9/300\n",
      "30/30 [==============================] - 0s 5ms/step - loss: 3.2949 - accuracy: 0.1638\n",
      "Epoch 10/300\n",
      "30/30 [==============================] - 0s 5ms/step - loss: 3.1871 - accuracy: 0.1808\n",
      "Epoch 11/300\n",
      "30/30 [==============================] - 0s 5ms/step - loss: 3.0590 - accuracy: 0.2090\n",
      "Epoch 12/300\n",
      "30/30 [==============================] - 0s 4ms/step - loss: 2.8556 - accuracy: 0.2712\n",
      "Epoch 13/300\n",
      "30/30 [==============================] - 0s 8ms/step - loss: 2.8011 - accuracy: 0.2825\n",
      "Epoch 14/300\n",
      "30/30 [==============================] - 0s 6ms/step - loss: 2.6779 - accuracy: 0.2655: 0s - loss: 2.6400 - accuracy: 0.26\n",
      "Epoch 15/300\n",
      "30/30 [==============================] - 0s 4ms/step - loss: 2.4297 - accuracy: 0.3446\n",
      "Epoch 16/300\n",
      "30/30 [==============================] - 0s 3ms/step - loss: 2.3811 - accuracy: 0.3333\n",
      "Epoch 17/300\n",
      "30/30 [==============================] - 0s 4ms/step - loss: 2.3433 - accuracy: 0.3333\n",
      "Epoch 18/300\n",
      "30/30 [==============================] - 0s 6ms/step - loss: 2.1996 - accuracy: 0.4068: 0s - loss: 2.2567 - accuracy: \n",
      "Epoch 19/300\n",
      "30/30 [==============================] - 0s 4ms/step - loss: 2.0199 - accuracy: 0.4463\n",
      "Epoch 20/300\n",
      "30/30 [==============================] - 0s 4ms/step - loss: 2.0642 - accuracy: 0.3955\n",
      "Epoch 21/300\n",
      "30/30 [==============================] - 0s 4ms/step - loss: 1.9339 - accuracy: 0.4689\n",
      "Epoch 22/300\n",
      "30/30 [==============================] - 0s 4ms/step - loss: 1.7878 - accuracy: 0.4294\n",
      "Epoch 23/300\n",
      "30/30 [==============================] - 0s 4ms/step - loss: 1.7082 - accuracy: 0.4802\n",
      "Epoch 24/300\n",
      "30/30 [==============================] - 0s 4ms/step - loss: 1.7133 - accuracy: 0.4972\n",
      "Epoch 25/300\n",
      "30/30 [==============================] - 0s 5ms/step - loss: 1.5931 - accuracy: 0.5593\n",
      "Epoch 26/300\n",
      "30/30 [==============================] - 0s 4ms/step - loss: 1.5508 - accuracy: 0.5480\n",
      "Epoch 27/300\n",
      "30/30 [==============================] - 0s 4ms/step - loss: 1.4662 - accuracy: 0.5593\n",
      "Epoch 28/300\n",
      "30/30 [==============================] - 0s 4ms/step - loss: 1.4389 - accuracy: 0.6215\n",
      "Epoch 29/300\n",
      "30/30 [==============================] - 0s 4ms/step - loss: 1.3157 - accuracy: 0.6271\n",
      "Epoch 30/300\n",
      "30/30 [==============================] - 0s 4ms/step - loss: 1.3416 - accuracy: 0.6102\n",
      "Epoch 31/300\n",
      "30/30 [==============================] - 0s 5ms/step - loss: 1.2168 - accuracy: 0.6384\n",
      "Epoch 32/300\n",
      "30/30 [==============================] - 0s 5ms/step - loss: 1.1734 - accuracy: 0.6158\n",
      "Epoch 33/300\n",
      "30/30 [==============================] - 0s 4ms/step - loss: 1.2817 - accuracy: 0.6441\n",
      "Epoch 34/300\n",
      "30/30 [==============================] - 0s 4ms/step - loss: 1.1206 - accuracy: 0.6780\n",
      "Epoch 35/300\n",
      "30/30 [==============================] - 0s 5ms/step - loss: 1.1679 - accuracy: 0.6441\n",
      "Epoch 36/300\n",
      "30/30 [==============================] - 0s 4ms/step - loss: 1.1110 - accuracy: 0.6328: 0s - loss: 1.1344 - accuracy: 0.62\n",
      "Epoch 37/300\n",
      "30/30 [==============================] - 0s 4ms/step - loss: 1.0519 - accuracy: 0.6667\n",
      "Epoch 38/300\n",
      "30/30 [==============================] - 0s 4ms/step - loss: 0.9437 - accuracy: 0.7006\n",
      "Epoch 39/300\n",
      "30/30 [==============================] - 0s 5ms/step - loss: 0.9610 - accuracy: 0.7175\n",
      "Epoch 40/300\n",
      "30/30 [==============================] - 0s 5ms/step - loss: 0.9377 - accuracy: 0.7175\n",
      "Epoch 41/300\n",
      "30/30 [==============================] - 0s 4ms/step - loss: 0.8882 - accuracy: 0.7345\n",
      "Epoch 42/300\n",
      "30/30 [==============================] - 0s 4ms/step - loss: 1.0454 - accuracy: 0.6384\n",
      "Epoch 43/300\n",
      "30/30 [==============================] - 0s 4ms/step - loss: 0.8663 - accuracy: 0.7232\n",
      "Epoch 44/300\n",
      "30/30 [==============================] - 0s 4ms/step - loss: 0.7943 - accuracy: 0.7627\n",
      "Epoch 45/300\n",
      "30/30 [==============================] - 0s 4ms/step - loss: 0.8448 - accuracy: 0.7401\n",
      "Epoch 46/300\n",
      "30/30 [==============================] - 0s 5ms/step - loss: 0.7962 - accuracy: 0.7401\n",
      "Epoch 47/300\n",
      "30/30 [==============================] - 0s 4ms/step - loss: 0.6542 - accuracy: 0.7853\n",
      "Epoch 48/300\n",
      "30/30 [==============================] - 0s 4ms/step - loss: 0.7631 - accuracy: 0.7740: 0s - loss: 0.7765 - accuracy: 0.77\n",
      "Epoch 49/300\n",
      "30/30 [==============================] - 0s 4ms/step - loss: 0.7146 - accuracy: 0.7684\n",
      "Epoch 50/300\n",
      "30/30 [==============================] - 0s 4ms/step - loss: 0.7708 - accuracy: 0.7571\n",
      "Epoch 51/300\n",
      "30/30 [==============================] - 0s 3ms/step - loss: 0.8031 - accuracy: 0.7401\n",
      "Epoch 52/300\n",
      "30/30 [==============================] - 0s 4ms/step - loss: 0.7335 - accuracy: 0.7627: 0s - loss: 0.7910 - accuracy: 0.74\n",
      "Epoch 53/300\n",
      "30/30 [==============================] - 0s 3ms/step - loss: 0.5581 - accuracy: 0.8362\n",
      "Epoch 54/300\n",
      "30/30 [==============================] - 0s 3ms/step - loss: 0.8087 - accuracy: 0.7401\n",
      "Epoch 55/300\n",
      "30/30 [==============================] - 0s 3ms/step - loss: 0.6919 - accuracy: 0.7910\n",
      "Epoch 56/300\n",
      "30/30 [==============================] - 0s 4ms/step - loss: 0.6932 - accuracy: 0.7514\n",
      "Epoch 57/300\n",
      "30/30 [==============================] - 0s 4ms/step - loss: 0.7109 - accuracy: 0.7514\n",
      "Epoch 58/300\n",
      "30/30 [==============================] - 0s 5ms/step - loss: 0.6026 - accuracy: 0.8079\n",
      "Epoch 59/300\n",
      "30/30 [==============================] - 0s 5ms/step - loss: 0.6639 - accuracy: 0.7910\n",
      "Epoch 60/300\n",
      "30/30 [==============================] - 0s 5ms/step - loss: 0.6504 - accuracy: 0.7910\n",
      "Epoch 61/300\n",
      "30/30 [==============================] - 0s 3ms/step - loss: 0.6494 - accuracy: 0.8249\n",
      "Epoch 62/300\n",
      "30/30 [==============================] - 0s 7ms/step - loss: 0.7297 - accuracy: 0.7740\n",
      "Epoch 63/300\n",
      "30/30 [==============================] - 0s 4ms/step - loss: 0.6045 - accuracy: 0.8362\n",
      "Epoch 64/300\n",
      "30/30 [==============================] - 0s 5ms/step - loss: 0.5730 - accuracy: 0.8249: 0s - loss: 0.7196 - accuracy: 0.\n",
      "Epoch 65/300\n",
      "30/30 [==============================] - 0s 5ms/step - loss: 0.5548 - accuracy: 0.8136\n",
      "Epoch 66/300\n",
      "30/30 [==============================] - 0s 4ms/step - loss: 0.6829 - accuracy: 0.7797\n",
      "Epoch 67/300\n",
      "30/30 [==============================] - 0s 4ms/step - loss: 0.5315 - accuracy: 0.8475\n",
      "Epoch 68/300\n",
      "30/30 [==============================] - 0s 4ms/step - loss: 0.5234 - accuracy: 0.8249: 0s - loss: 0.5440 - accuracy: 0.82\n",
      "Epoch 69/300\n",
      "30/30 [==============================] - 0s 5ms/step - loss: 0.4902 - accuracy: 0.8362\n",
      "Epoch 70/300\n",
      "30/30 [==============================] - 0s 4ms/step - loss: 0.4934 - accuracy: 0.8418\n",
      "Epoch 71/300\n",
      "30/30 [==============================] - 0s 5ms/step - loss: 0.6421 - accuracy: 0.8192\n",
      "Epoch 72/300\n",
      "30/30 [==============================] - 0s 4ms/step - loss: 0.4930 - accuracy: 0.8475\n",
      "Epoch 73/300\n",
      "30/30 [==============================] - 0s 4ms/step - loss: 0.4992 - accuracy: 0.8362: 0s - loss: 0.5229 - accuracy: 0.\n",
      "Epoch 74/300\n",
      "30/30 [==============================] - 0s 4ms/step - loss: 0.4372 - accuracy: 0.8588: 0s - loss: 0.4372 - accuracy: 0.85\n",
      "Epoch 75/300\n",
      "30/30 [==============================] - 0s 4ms/step - loss: 0.4633 - accuracy: 0.8701\n",
      "Epoch 76/300\n",
      "30/30 [==============================] - 0s 4ms/step - loss: 0.5282 - accuracy: 0.8305: 0s - loss: 0.5275 - accuracy: 0.81 - ETA: 0s - loss: 0.5282 - accuracy: 0.83\n",
      "Epoch 77/300\n",
      "30/30 [==============================] - 0s 3ms/step - loss: 0.5398 - accuracy: 0.8644\n",
      "Epoch 78/300\n"
     ]
    },
    {
     "name": "stdout",
     "output_type": "stream",
     "text": [
      "30/30 [==============================] - 0s 4ms/step - loss: 0.5598 - accuracy: 0.8079\n",
      "Epoch 79/300\n",
      "30/30 [==============================] - 0s 3ms/step - loss: 0.5828 - accuracy: 0.8305\n",
      "Epoch 80/300\n",
      "30/30 [==============================] - 0s 4ms/step - loss: 0.5812 - accuracy: 0.8249\n",
      "Epoch 81/300\n",
      "30/30 [==============================] - 0s 4ms/step - loss: 0.4869 - accuracy: 0.8362\n",
      "Epoch 82/300\n",
      "30/30 [==============================] - 0s 4ms/step - loss: 0.4981 - accuracy: 0.8418\n",
      "Epoch 83/300\n",
      "30/30 [==============================] - 0s 4ms/step - loss: 0.5082 - accuracy: 0.8418\n",
      "Epoch 84/300\n",
      "30/30 [==============================] - 0s 4ms/step - loss: 0.4267 - accuracy: 0.8927\n",
      "Epoch 85/300\n",
      "30/30 [==============================] - 0s 4ms/step - loss: 0.5149 - accuracy: 0.8362\n",
      "Epoch 86/300\n",
      "30/30 [==============================] - 0s 5ms/step - loss: 0.5116 - accuracy: 0.8305\n",
      "Epoch 87/300\n",
      "30/30 [==============================] - 0s 3ms/step - loss: 0.4191 - accuracy: 0.8418\n",
      "Epoch 88/300\n",
      "30/30 [==============================] - 0s 5ms/step - loss: 0.5022 - accuracy: 0.8475\n",
      "Epoch 89/300\n",
      "30/30 [==============================] - 0s 4ms/step - loss: 0.4308 - accuracy: 0.8757\n",
      "Epoch 90/300\n",
      "30/30 [==============================] - 0s 4ms/step - loss: 0.4897 - accuracy: 0.8249\n",
      "Epoch 91/300\n",
      "30/30 [==============================] - 0s 5ms/step - loss: 0.3158 - accuracy: 0.9153\n",
      "Epoch 92/300\n",
      "30/30 [==============================] - 0s 6ms/step - loss: 0.4211 - accuracy: 0.8362\n",
      "Epoch 93/300\n",
      "30/30 [==============================] - 0s 5ms/step - loss: 0.4578 - accuracy: 0.8588\n",
      "Epoch 94/300\n",
      "30/30 [==============================] - 0s 4ms/step - loss: 0.4014 - accuracy: 0.8644\n",
      "Epoch 95/300\n",
      "30/30 [==============================] - 0s 4ms/step - loss: 0.4751 - accuracy: 0.8588\n",
      "Epoch 96/300\n",
      "30/30 [==============================] - ETA: 0s - loss: 0.4094 - accuracy: 0.86 - 0s 5ms/step - loss: 0.3961 - accuracy: 0.8757\n",
      "Epoch 97/300\n",
      "30/30 [==============================] - 0s 5ms/step - loss: 0.4071 - accuracy: 0.8701\n",
      "Epoch 98/300\n",
      "30/30 [==============================] - 0s 5ms/step - loss: 0.3433 - accuracy: 0.9096\n",
      "Epoch 99/300\n",
      "30/30 [==============================] - 0s 4ms/step - loss: 0.4161 - accuracy: 0.8814\n",
      "Epoch 100/300\n",
      "30/30 [==============================] - 0s 5ms/step - loss: 0.4107 - accuracy: 0.8531\n",
      "Epoch 101/300\n",
      "30/30 [==============================] - 0s 4ms/step - loss: 0.4027 - accuracy: 0.8757\n",
      "Epoch 102/300\n",
      "30/30 [==============================] - 0s 4ms/step - loss: 0.4335 - accuracy: 0.8588\n",
      "Epoch 103/300\n",
      "30/30 [==============================] - 0s 3ms/step - loss: 0.4541 - accuracy: 0.8531\n",
      "Epoch 104/300\n",
      "30/30 [==============================] - 0s 4ms/step - loss: 0.4321 - accuracy: 0.8588\n",
      "Epoch 105/300\n",
      "30/30 [==============================] - 0s 4ms/step - loss: 0.3904 - accuracy: 0.8701\n",
      "Epoch 106/300\n",
      "30/30 [==============================] - 0s 3ms/step - loss: 0.2806 - accuracy: 0.9040\n",
      "Epoch 107/300\n",
      "30/30 [==============================] - 0s 4ms/step - loss: 0.4254 - accuracy: 0.8757\n",
      "Epoch 108/300\n",
      "30/30 [==============================] - 0s 4ms/step - loss: 0.4224 - accuracy: 0.8418\n",
      "Epoch 109/300\n",
      "30/30 [==============================] - 0s 5ms/step - loss: 0.4573 - accuracy: 0.8531\n",
      "Epoch 110/300\n",
      "30/30 [==============================] - 0s 5ms/step - loss: 0.3547 - accuracy: 0.8701\n",
      "Epoch 111/300\n",
      "30/30 [==============================] - 0s 4ms/step - loss: 0.3517 - accuracy: 0.8475\n",
      "Epoch 112/300\n",
      "30/30 [==============================] - 0s 5ms/step - loss: 0.3313 - accuracy: 0.8983: 0s - loss: 0.3100 - accuracy: 0.\n",
      "Epoch 113/300\n",
      "30/30 [==============================] - 0s 4ms/step - loss: 0.3083 - accuracy: 0.8927\n",
      "Epoch 114/300\n",
      "30/30 [==============================] - 0s 4ms/step - loss: 0.3035 - accuracy: 0.9096\n",
      "Epoch 115/300\n",
      "30/30 [==============================] - 0s 3ms/step - loss: 0.3182 - accuracy: 0.8814\n",
      "Epoch 116/300\n",
      "30/30 [==============================] - 0s 4ms/step - loss: 0.3013 - accuracy: 0.9096\n",
      "Epoch 117/300\n",
      "30/30 [==============================] - 0s 4ms/step - loss: 0.4034 - accuracy: 0.8531\n",
      "Epoch 118/300\n",
      "30/30 [==============================] - 0s 4ms/step - loss: 0.3445 - accuracy: 0.8927\n",
      "Epoch 119/300\n",
      "30/30 [==============================] - 0s 4ms/step - loss: 0.3192 - accuracy: 0.9096: 0s - loss: 0.1353 - accuracy: 0.\n",
      "Epoch 120/300\n",
      "30/30 [==============================] - 0s 5ms/step - loss: 0.3314 - accuracy: 0.8870\n",
      "Epoch 121/300\n",
      "30/30 [==============================] - 0s 4ms/step - loss: 0.2811 - accuracy: 0.9322\n",
      "Epoch 122/300\n",
      "30/30 [==============================] - 0s 4ms/step - loss: 0.3251 - accuracy: 0.9096\n",
      "Epoch 123/300\n",
      "30/30 [==============================] - 0s 4ms/step - loss: 0.3350 - accuracy: 0.9096\n",
      "Epoch 124/300\n",
      "30/30 [==============================] - 0s 4ms/step - loss: 0.4609 - accuracy: 0.8475\n",
      "Epoch 125/300\n",
      "30/30 [==============================] - 0s 4ms/step - loss: 0.3532 - accuracy: 0.9209\n",
      "Epoch 126/300\n",
      "30/30 [==============================] - 0s 4ms/step - loss: 0.3553 - accuracy: 0.8983\n",
      "Epoch 127/300\n",
      "30/30 [==============================] - 0s 5ms/step - loss: 0.2784 - accuracy: 0.9209\n",
      "Epoch 128/300\n",
      "30/30 [==============================] - 0s 4ms/step - loss: 0.3019 - accuracy: 0.9153\n",
      "Epoch 129/300\n",
      "30/30 [==============================] - 0s 3ms/step - loss: 0.3725 - accuracy: 0.8757: 0s - loss: 0.3623 - accuracy: 0.89\n",
      "Epoch 130/300\n",
      "30/30 [==============================] - 0s 4ms/step - loss: 0.3510 - accuracy: 0.9040\n",
      "Epoch 131/300\n",
      "30/30 [==============================] - 0s 3ms/step - loss: 0.3254 - accuracy: 0.8814\n",
      "Epoch 132/300\n",
      "30/30 [==============================] - 0s 4ms/step - loss: 0.2722 - accuracy: 0.9096\n",
      "Epoch 133/300\n",
      "30/30 [==============================] - 0s 4ms/step - loss: 0.3811 - accuracy: 0.8814\n",
      "Epoch 134/300\n",
      "30/30 [==============================] - 0s 4ms/step - loss: 0.4251 - accuracy: 0.8701\n",
      "Epoch 135/300\n",
      "30/30 [==============================] - ETA: 0s - loss: 0.2787 - accuracy: 0.9195 ETA: 0s - loss: 0.2399 - accuracy: 0. - 0s 4ms/step - loss: 0.2745 - accuracy: 0.9209\n",
      "Epoch 136/300\n",
      "30/30 [==============================] - 0s 3ms/step - loss: 0.2775 - accuracy: 0.9153\n",
      "Epoch 137/300\n",
      "30/30 [==============================] - 0s 4ms/step - loss: 0.2432 - accuracy: 0.9096\n",
      "Epoch 138/300\n",
      "30/30 [==============================] - 0s 5ms/step - loss: 0.2094 - accuracy: 0.9379\n",
      "Epoch 139/300\n",
      "30/30 [==============================] - 0s 4ms/step - loss: 0.2678 - accuracy: 0.8870\n",
      "Epoch 140/300\n",
      "30/30 [==============================] - 0s 3ms/step - loss: 0.2790 - accuracy: 0.9153\n",
      "Epoch 141/300\n",
      "30/30 [==============================] - 0s 5ms/step - loss: 0.2186 - accuracy: 0.9153\n",
      "Epoch 142/300\n",
      "30/30 [==============================] - 0s 4ms/step - loss: 0.3035 - accuracy: 0.9096\n",
      "Epoch 143/300\n",
      "30/30 [==============================] - 0s 5ms/step - loss: 0.2121 - accuracy: 0.9322\n",
      "Epoch 144/300\n",
      "30/30 [==============================] - 0s 3ms/step - loss: 0.2624 - accuracy: 0.9096\n",
      "Epoch 145/300\n",
      "30/30 [==============================] - 0s 3ms/step - loss: 0.2234 - accuracy: 0.9322\n",
      "Epoch 146/300\n",
      "30/30 [==============================] - 0s 3ms/step - loss: 0.3401 - accuracy: 0.9096\n",
      "Epoch 147/300\n",
      "30/30 [==============================] - 0s 4ms/step - loss: 0.2934 - accuracy: 0.9096\n",
      "Epoch 148/300\n",
      "30/30 [==============================] - 0s 3ms/step - loss: 0.2144 - accuracy: 0.9379\n",
      "Epoch 149/300\n",
      "30/30 [==============================] - 0s 4ms/step - loss: 0.2657 - accuracy: 0.8983\n",
      "Epoch 150/300\n",
      "30/30 [==============================] - 0s 3ms/step - loss: 0.3015 - accuracy: 0.8870\n",
      "Epoch 151/300\n",
      "30/30 [==============================] - 0s 3ms/step - loss: 0.2624 - accuracy: 0.9040\n",
      "Epoch 152/300\n",
      "30/30 [==============================] - 0s 3ms/step - loss: 0.3217 - accuracy: 0.8870\n",
      "Epoch 153/300\n",
      "30/30 [==============================] - 0s 4ms/step - loss: 0.2619 - accuracy: 0.9153\n",
      "Epoch 154/300\n",
      "30/30 [==============================] - 0s 5ms/step - loss: 0.3494 - accuracy: 0.8814\n",
      "Epoch 155/300\n",
      "30/30 [==============================] - 0s 4ms/step - loss: 0.2776 - accuracy: 0.9096\n",
      "Epoch 156/300\n",
      "30/30 [==============================] - 0s 3ms/step - loss: 0.2662 - accuracy: 0.9153\n",
      "Epoch 157/300\n"
     ]
    },
    {
     "name": "stdout",
     "output_type": "stream",
     "text": [
      "30/30 [==============================] - 0s 6ms/step - loss: 0.2867 - accuracy: 0.9209\n",
      "Epoch 158/300\n",
      "30/30 [==============================] - 0s 3ms/step - loss: 0.3469 - accuracy: 0.8418\n",
      "Epoch 159/300\n",
      "30/30 [==============================] - 0s 4ms/step - loss: 0.2429 - accuracy: 0.9322\n",
      "Epoch 160/300\n",
      "30/30 [==============================] - 0s 4ms/step - loss: 0.2181 - accuracy: 0.9492\n",
      "Epoch 161/300\n",
      "30/30 [==============================] - 0s 3ms/step - loss: 0.2496 - accuracy: 0.9096\n",
      "Epoch 162/300\n",
      "30/30 [==============================] - 0s 5ms/step - loss: 0.2387 - accuracy: 0.9209\n",
      "Epoch 163/300\n",
      "30/30 [==============================] - 0s 5ms/step - loss: 0.2158 - accuracy: 0.9209\n",
      "Epoch 164/300\n",
      "30/30 [==============================] - 0s 4ms/step - loss: 0.2510 - accuracy: 0.9209\n",
      "Epoch 165/300\n",
      "30/30 [==============================] - 0s 4ms/step - loss: 0.2837 - accuracy: 0.8983\n",
      "Epoch 166/300\n",
      "30/30 [==============================] - 0s 5ms/step - loss: 0.2608 - accuracy: 0.9153\n",
      "Epoch 167/300\n",
      "30/30 [==============================] - 0s 4ms/step - loss: 0.2928 - accuracy: 0.9040\n",
      "Epoch 168/300\n",
      "30/30 [==============================] - 0s 4ms/step - loss: 0.2776 - accuracy: 0.9096\n",
      "Epoch 169/300\n",
      "30/30 [==============================] - 0s 4ms/step - loss: 0.1841 - accuracy: 0.9153\n",
      "Epoch 170/300\n",
      "30/30 [==============================] - 0s 4ms/step - loss: 0.1958 - accuracy: 0.9209\n",
      "Epoch 171/300\n",
      "30/30 [==============================] - 0s 3ms/step - loss: 0.2157 - accuracy: 0.9153\n",
      "Epoch 172/300\n",
      "30/30 [==============================] - 0s 5ms/step - loss: 0.2983 - accuracy: 0.9040\n",
      "Epoch 173/300\n",
      "30/30 [==============================] - 0s 4ms/step - loss: 0.3144 - accuracy: 0.8927\n",
      "Epoch 174/300\n",
      "30/30 [==============================] - 0s 4ms/step - loss: 0.2931 - accuracy: 0.8983\n",
      "Epoch 175/300\n",
      "30/30 [==============================] - 0s 5ms/step - loss: 0.2426 - accuracy: 0.9209\n",
      "Epoch 176/300\n",
      "30/30 [==============================] - 0s 4ms/step - loss: 0.2003 - accuracy: 0.9322\n",
      "Epoch 177/300\n",
      "30/30 [==============================] - 0s 3ms/step - loss: 0.2271 - accuracy: 0.9322\n",
      "Epoch 178/300\n",
      "30/30 [==============================] - 0s 4ms/step - loss: 0.1728 - accuracy: 0.9548\n",
      "Epoch 179/300\n",
      "30/30 [==============================] - 0s 4ms/step - loss: 0.3515 - accuracy: 0.8983\n",
      "Epoch 180/300\n",
      "30/30 [==============================] - 0s 4ms/step - loss: 0.3731 - accuracy: 0.8757\n",
      "Epoch 181/300\n",
      "30/30 [==============================] - 0s 3ms/step - loss: 0.2961 - accuracy: 0.9153\n",
      "Epoch 182/300\n",
      "30/30 [==============================] - 0s 4ms/step - loss: 0.2295 - accuracy: 0.9322\n",
      "Epoch 183/300\n",
      "30/30 [==============================] - 0s 4ms/step - loss: 0.2130 - accuracy: 0.9209\n",
      "Epoch 184/300\n",
      "30/30 [==============================] - 0s 4ms/step - loss: 0.3787 - accuracy: 0.8927\n",
      "Epoch 185/300\n",
      "30/30 [==============================] - 0s 4ms/step - loss: 0.2382 - accuracy: 0.9379\n",
      "Epoch 186/300\n",
      "30/30 [==============================] - 0s 4ms/step - loss: 0.2246 - accuracy: 0.9096\n",
      "Epoch 187/300\n",
      "30/30 [==============================] - 0s 4ms/step - loss: 0.2922 - accuracy: 0.9153\n",
      "Epoch 188/300\n",
      "30/30 [==============================] - 0s 3ms/step - loss: 0.2578 - accuracy: 0.9040\n",
      "Epoch 189/300\n",
      "30/30 [==============================] - 0s 5ms/step - loss: 0.3099 - accuracy: 0.8870\n",
      "Epoch 190/300\n",
      "30/30 [==============================] - 0s 4ms/step - loss: 0.2234 - accuracy: 0.9266\n",
      "Epoch 191/300\n",
      "30/30 [==============================] - 0s 3ms/step - loss: 0.2537 - accuracy: 0.9266\n",
      "Epoch 192/300\n",
      "30/30 [==============================] - 0s 3ms/step - loss: 0.2518 - accuracy: 0.9096\n",
      "Epoch 193/300\n",
      "30/30 [==============================] - 0s 4ms/step - loss: 0.2567 - accuracy: 0.9209\n",
      "Epoch 194/300\n",
      "30/30 [==============================] - 0s 3ms/step - loss: 0.2157 - accuracy: 0.9379\n",
      "Epoch 195/300\n",
      "30/30 [==============================] - 0s 4ms/step - loss: 0.2646 - accuracy: 0.8983\n",
      "Epoch 196/300\n",
      "30/30 [==============================] - 0s 4ms/step - loss: 0.2337 - accuracy: 0.9379\n",
      "Epoch 197/300\n",
      "30/30 [==============================] - 0s 4ms/step - loss: 0.2234 - accuracy: 0.9322\n",
      "Epoch 198/300\n",
      "30/30 [==============================] - 0s 4ms/step - loss: 0.2422 - accuracy: 0.9209\n",
      "Epoch 199/300\n",
      "30/30 [==============================] - 0s 4ms/step - loss: 0.2182 - accuracy: 0.9266\n",
      "Epoch 200/300\n",
      "30/30 [==============================] - 0s 3ms/step - loss: 0.2368 - accuracy: 0.9322\n",
      "Epoch 201/300\n",
      "30/30 [==============================] - 0s 4ms/step - loss: 0.3240 - accuracy: 0.8983\n",
      "Epoch 202/300\n",
      "30/30 [==============================] - 0s 3ms/step - loss: 0.2628 - accuracy: 0.9266\n",
      "Epoch 203/300\n",
      "30/30 [==============================] - 0s 3ms/step - loss: 0.2457 - accuracy: 0.9096\n",
      "Epoch 204/300\n",
      "30/30 [==============================] - 0s 4ms/step - loss: 0.2326 - accuracy: 0.9153\n",
      "Epoch 205/300\n",
      "30/30 [==============================] - 0s 4ms/step - loss: 0.2280 - accuracy: 0.9266\n",
      "Epoch 206/300\n",
      "30/30 [==============================] - 0s 5ms/step - loss: 0.2074 - accuracy: 0.9379\n",
      "Epoch 207/300\n",
      "30/30 [==============================] - 0s 4ms/step - loss: 0.2510 - accuracy: 0.8927\n",
      "Epoch 208/300\n",
      "30/30 [==============================] - 0s 4ms/step - loss: 0.1804 - accuracy: 0.9435\n",
      "Epoch 209/300\n",
      "30/30 [==============================] - 0s 4ms/step - loss: 0.2123 - accuracy: 0.9266\n",
      "Epoch 210/300\n",
      "30/30 [==============================] - 0s 4ms/step - loss: 0.1796 - accuracy: 0.9548\n",
      "Epoch 211/300\n",
      "30/30 [==============================] - 0s 4ms/step - loss: 0.1634 - accuracy: 0.9322\n",
      "Epoch 212/300\n",
      "30/30 [==============================] - 0s 4ms/step - loss: 0.3373 - accuracy: 0.8927\n",
      "Epoch 213/300\n",
      "30/30 [==============================] - 0s 3ms/step - loss: 0.2331 - accuracy: 0.9040\n",
      "Epoch 214/300\n",
      "30/30 [==============================] - 0s 3ms/step - loss: 0.2042 - accuracy: 0.9209\n",
      "Epoch 215/300\n",
      "30/30 [==============================] - 0s 5ms/step - loss: 0.2164 - accuracy: 0.9153\n",
      "Epoch 216/300\n",
      "30/30 [==============================] - 0s 4ms/step - loss: 0.1926 - accuracy: 0.9548\n",
      "Epoch 217/300\n",
      "30/30 [==============================] - 0s 3ms/step - loss: 0.1954 - accuracy: 0.9379\n",
      "Epoch 218/300\n",
      "30/30 [==============================] - 0s 3ms/step - loss: 0.2176 - accuracy: 0.9153\n",
      "Epoch 219/300\n",
      "30/30 [==============================] - 0s 4ms/step - loss: 0.2116 - accuracy: 0.9209\n",
      "Epoch 220/300\n",
      "30/30 [==============================] - 0s 4ms/step - loss: 0.2920 - accuracy: 0.8870\n",
      "Epoch 221/300\n",
      "30/30 [==============================] - 0s 3ms/step - loss: 0.2531 - accuracy: 0.9209\n",
      "Epoch 222/300\n",
      "30/30 [==============================] - 0s 4ms/step - loss: 0.2263 - accuracy: 0.9153\n",
      "Epoch 223/300\n",
      "30/30 [==============================] - 0s 3ms/step - loss: 0.3063 - accuracy: 0.9153\n",
      "Epoch 224/300\n",
      "30/30 [==============================] - 0s 5ms/step - loss: 0.2849 - accuracy: 0.8983\n",
      "Epoch 225/300\n",
      "30/30 [==============================] - 0s 4ms/step - loss: 0.1653 - accuracy: 0.9322\n",
      "Epoch 226/300\n",
      "30/30 [==============================] - 0s 4ms/step - loss: 0.3574 - accuracy: 0.8814\n",
      "Epoch 227/300\n",
      "30/30 [==============================] - 0s 4ms/step - loss: 0.1916 - accuracy: 0.9435\n",
      "Epoch 228/300\n",
      "30/30 [==============================] - 0s 3ms/step - loss: 0.2587 - accuracy: 0.9379\n",
      "Epoch 229/300\n",
      "30/30 [==============================] - 0s 3ms/step - loss: 0.3340 - accuracy: 0.9040\n",
      "Epoch 230/300\n",
      "30/30 [==============================] - 0s 3ms/step - loss: 0.3597 - accuracy: 0.8701\n",
      "Epoch 231/300\n",
      "30/30 [==============================] - 0s 6ms/step - loss: 0.2352 - accuracy: 0.9322\n",
      "Epoch 232/300\n",
      "30/30 [==============================] - 0s 4ms/step - loss: 0.2813 - accuracy: 0.9266\n",
      "Epoch 233/300\n",
      "30/30 [==============================] - 0s 4ms/step - loss: 0.2474 - accuracy: 0.9153\n",
      "Epoch 234/300\n",
      "30/30 [==============================] - 0s 3ms/step - loss: 0.2423 - accuracy: 0.9096\n",
      "Epoch 235/300\n",
      "30/30 [==============================] - 0s 4ms/step - loss: 0.1779 - accuracy: 0.9548\n",
      "Epoch 236/300\n",
      "30/30 [==============================] - 0s 3ms/step - loss: 0.2891 - accuracy: 0.9096\n",
      "Epoch 237/300\n",
      "30/30 [==============================] - 0s 4ms/step - loss: 0.3182 - accuracy: 0.9096\n",
      "Epoch 238/300\n"
     ]
    },
    {
     "name": "stdout",
     "output_type": "stream",
     "text": [
      "30/30 [==============================] - 0s 5ms/step - loss: 0.1933 - accuracy: 0.9266\n",
      "Epoch 239/300\n",
      "30/30 [==============================] - 0s 4ms/step - loss: 0.2813 - accuracy: 0.8983\n",
      "Epoch 240/300\n",
      "30/30 [==============================] - 0s 4ms/step - loss: 0.1883 - accuracy: 0.9435\n",
      "Epoch 241/300\n",
      "30/30 [==============================] - 0s 4ms/step - loss: 0.1831 - accuracy: 0.9153\n",
      "Epoch 242/300\n",
      "30/30 [==============================] - 0s 4ms/step - loss: 0.1906 - accuracy: 0.9492\n",
      "Epoch 243/300\n",
      "30/30 [==============================] - 0s 4ms/step - loss: 0.3090 - accuracy: 0.9096\n",
      "Epoch 244/300\n",
      "30/30 [==============================] - 0s 4ms/step - loss: 0.2621 - accuracy: 0.9209\n",
      "Epoch 245/300\n",
      "30/30 [==============================] - 0s 6ms/step - loss: 0.1831 - accuracy: 0.9322\n",
      "Epoch 246/300\n",
      "30/30 [==============================] - 0s 4ms/step - loss: 0.1654 - accuracy: 0.9492\n",
      "Epoch 247/300\n",
      "30/30 [==============================] - 0s 4ms/step - loss: 0.2508 - accuracy: 0.9266\n",
      "Epoch 248/300\n",
      "30/30 [==============================] - 0s 5ms/step - loss: 0.2008 - accuracy: 0.9266: 0s - loss: 0.2438 - accuracy: 0.\n",
      "Epoch 249/300\n",
      "30/30 [==============================] - 0s 4ms/step - loss: 0.2339 - accuracy: 0.9096\n",
      "Epoch 250/300\n",
      "30/30 [==============================] - 0s 4ms/step - loss: 0.2489 - accuracy: 0.9209\n",
      "Epoch 251/300\n",
      "30/30 [==============================] - 0s 4ms/step - loss: 0.2079 - accuracy: 0.9266\n",
      "Epoch 252/300\n",
      "30/30 [==============================] - 0s 4ms/step - loss: 0.3066 - accuracy: 0.9153 ETA: 0s - loss: 0.2816 - accuracy: 0.91\n",
      "Epoch 253/300\n",
      "30/30 [==============================] - 0s 4ms/step - loss: 0.1825 - accuracy: 0.9379\n",
      "Epoch 254/300\n",
      "30/30 [==============================] - 0s 5ms/step - loss: 0.1940 - accuracy: 0.9435: 0s - loss: 0.1947 - accuracy: 0.94\n",
      "Epoch 255/300\n",
      "30/30 [==============================] - 0s 3ms/step - loss: 0.1452 - accuracy: 0.9492\n",
      "Epoch 256/300\n",
      "30/30 [==============================] - 0s 5ms/step - loss: 0.1714 - accuracy: 0.9492\n",
      "Epoch 257/300\n",
      "30/30 [==============================] - 0s 4ms/step - loss: 0.2318 - accuracy: 0.9266\n",
      "Epoch 258/300\n",
      "30/30 [==============================] - 0s 4ms/step - loss: 0.2355 - accuracy: 0.9266\n",
      "Epoch 259/300\n",
      "30/30 [==============================] - 0s 4ms/step - loss: 0.1835 - accuracy: 0.9209\n",
      "Epoch 260/300\n",
      "30/30 [==============================] - 0s 3ms/step - loss: 0.2617 - accuracy: 0.9266\n",
      "Epoch 261/300\n",
      "30/30 [==============================] - 0s 3ms/step - loss: 0.1393 - accuracy: 0.9548\n",
      "Epoch 262/300\n",
      "30/30 [==============================] - 0s 3ms/step - loss: 0.3132 - accuracy: 0.9153\n",
      "Epoch 263/300\n",
      "30/30 [==============================] - 0s 4ms/step - loss: 0.1338 - accuracy: 0.9435\n",
      "Epoch 264/300\n",
      "30/30 [==============================] - 0s 4ms/step - loss: 0.1259 - accuracy: 0.9548\n",
      "Epoch 265/300\n",
      "30/30 [==============================] - 0s 5ms/step - loss: 0.1973 - accuracy: 0.9379\n",
      "Epoch 266/300\n",
      "30/30 [==============================] - 0s 4ms/step - loss: 0.1618 - accuracy: 0.9266\n",
      "Epoch 267/300\n",
      "30/30 [==============================] - 0s 4ms/step - loss: 0.2006 - accuracy: 0.9266\n",
      "Epoch 268/300\n",
      "30/30 [==============================] - 0s 3ms/step - loss: 0.3752 - accuracy: 0.9040\n",
      "Epoch 269/300\n",
      "30/30 [==============================] - 0s 5ms/step - loss: 0.1618 - accuracy: 0.9492\n",
      "Epoch 270/300\n",
      "30/30 [==============================] - 0s 3ms/step - loss: 0.2033 - accuracy: 0.9435\n",
      "Epoch 271/300\n",
      "30/30 [==============================] - 0s 5ms/step - loss: 0.2414 - accuracy: 0.9209\n",
      "Epoch 272/300\n",
      "30/30 [==============================] - 0s 4ms/step - loss: 0.2093 - accuracy: 0.9153\n",
      "Epoch 273/300\n",
      "30/30 [==============================] - 0s 4ms/step - loss: 0.2463 - accuracy: 0.9096\n",
      "Epoch 274/300\n",
      "30/30 [==============================] - 0s 3ms/step - loss: 0.3275 - accuracy: 0.8814\n",
      "Epoch 275/300\n",
      "30/30 [==============================] - 0s 4ms/step - loss: 0.2126 - accuracy: 0.9322\n",
      "Epoch 276/300\n",
      "30/30 [==============================] - 0s 5ms/step - loss: 0.1764 - accuracy: 0.9548\n",
      "Epoch 277/300\n",
      "30/30 [==============================] - 0s 5ms/step - loss: 0.2174 - accuracy: 0.9209\n",
      "Epoch 278/300\n",
      "30/30 [==============================] - 0s 5ms/step - loss: 0.2473 - accuracy: 0.9153\n",
      "Epoch 279/300\n",
      "30/30 [==============================] - 0s 3ms/step - loss: 0.2335 - accuracy: 0.9266\n",
      "Epoch 280/300\n",
      "30/30 [==============================] - 0s 3ms/step - loss: 0.1410 - accuracy: 0.9492\n",
      "Epoch 281/300\n",
      "30/30 [==============================] - 0s 4ms/step - loss: 0.1463 - accuracy: 0.9548\n",
      "Epoch 282/300\n",
      "30/30 [==============================] - 0s 4ms/step - loss: 0.2615 - accuracy: 0.9096\n",
      "Epoch 283/300\n",
      "30/30 [==============================] - 0s 4ms/step - loss: 0.2599 - accuracy: 0.8927\n",
      "Epoch 284/300\n",
      "30/30 [==============================] - ETA: 0s - loss: 0.1851 - accuracy: 0.95 - 0s 3ms/step - loss: 0.1834 - accuracy: 0.9492\n",
      "Epoch 285/300\n",
      "30/30 [==============================] - 0s 4ms/step - loss: 0.3280 - accuracy: 0.8870\n",
      "Epoch 286/300\n",
      "30/30 [==============================] - 0s 3ms/step - loss: 0.2513 - accuracy: 0.8927\n",
      "Epoch 287/300\n",
      "30/30 [==============================] - 0s 4ms/step - loss: 0.3083 - accuracy: 0.8814\n",
      "Epoch 288/300\n",
      "30/30 [==============================] - 0s 4ms/step - loss: 0.1959 - accuracy: 0.9153\n",
      "Epoch 289/300\n",
      "30/30 [==============================] - 0s 3ms/step - loss: 0.2967 - accuracy: 0.9209\n",
      "Epoch 290/300\n",
      "30/30 [==============================] - 0s 4ms/step - loss: 0.2601 - accuracy: 0.8983\n",
      "Epoch 291/300\n",
      "30/30 [==============================] - 0s 3ms/step - loss: 0.2826 - accuracy: 0.9040\n",
      "Epoch 292/300\n",
      "30/30 [==============================] - 0s 4ms/step - loss: 0.3376 - accuracy: 0.9096\n",
      "Epoch 293/300\n",
      "30/30 [==============================] - 0s 4ms/step - loss: 0.1289 - accuracy: 0.9435\n",
      "Epoch 294/300\n",
      "30/30 [==============================] - 0s 3ms/step - loss: 0.2515 - accuracy: 0.9040\n",
      "Epoch 295/300\n",
      "30/30 [==============================] - 0s 4ms/step - loss: 0.2723 - accuracy: 0.9153\n",
      "Epoch 296/300\n",
      "30/30 [==============================] - 0s 4ms/step - loss: 0.1859 - accuracy: 0.9379\n",
      "Epoch 297/300\n",
      "30/30 [==============================] - 0s 4ms/step - loss: 0.1590 - accuracy: 0.9379\n",
      "Epoch 298/300\n",
      "30/30 [==============================] - 0s 3ms/step - loss: 0.1950 - accuracy: 0.9435\n",
      "Epoch 299/300\n",
      "30/30 [==============================] - 0s 3ms/step - loss: 0.2162 - accuracy: 0.9266\n",
      "Epoch 300/300\n",
      "30/30 [==============================] - 0s 4ms/step - loss: 0.1372 - accuracy: 0.9548\n",
      "model created\n"
     ]
    }
   ],
   "source": [
    "createbot = botmodel.fit(np.array(X_train), np.array(Y_train), epochs=300, batch_size=6, verbose=1)\n",
    "botmodel.save('mentalhealthbot_model.h5', createbot)\n",
    "print(\"model created\")"
   ]
  },
  {
   "cell_type": "markdown",
   "metadata": {},
   "source": [
    "# Summary of the model"
   ]
  },
  {
   "cell_type": "code",
   "execution_count": 22,
   "metadata": {
    "pycharm": {
     "name": "#%%\n"
    }
   },
   "outputs": [
    {
     "name": "stdout",
     "output_type": "stream",
     "text": [
      "Model: \"sequential\"\n",
      "_________________________________________________________________\n",
      "Layer (type)                 Output Shape              Param #   \n",
      "=================================================================\n",
      "dense (Dense)                (None, 128)               16256     \n",
      "_________________________________________________________________\n",
      "dropout (Dropout)            (None, 128)               0         \n",
      "_________________________________________________________________\n",
      "dense_1 (Dense)              (None, 64)                8256      \n",
      "_________________________________________________________________\n",
      "dropout_1 (Dropout)          (None, 64)                0         \n",
      "_________________________________________________________________\n",
      "dense_2 (Dense)              (None, 57)                3705      \n",
      "=================================================================\n",
      "Total params: 28,217\n",
      "Trainable params: 28,217\n",
      "Non-trainable params: 0\n",
      "_________________________________________________________________\n"
     ]
    }
   ],
   "source": [
    "botmodel.summary()"
   ]
  }
 ],
 "metadata": {
  "kernelspec": {
   "display_name": "Python 3 (ipykernel)",
   "language": "python",
   "name": "python3"
  },
  "language_info": {
   "codemirror_mode": {
    "name": "ipython",
    "version": 3
   },
   "file_extension": ".py",
   "mimetype": "text/x-python",
   "name": "python",
   "nbconvert_exporter": "python",
   "pygments_lexer": "ipython3",
   "version": "3.8.8"
  }
 },
 "nbformat": 4,
 "nbformat_minor": 1
}
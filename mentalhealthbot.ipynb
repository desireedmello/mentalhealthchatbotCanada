{
 "cells": [
  {
   "cell_type": "markdown",
   "metadata": {},
   "source": [
    "# Importing Required Libraries"
   ]
  },
  {
   "cell_type": "code",
   "execution_count": 1,
   "metadata": {},
   "outputs": [
    {
     "name": "stderr",
     "output_type": "stream",
     "text": [
      "f:\\mentalhealthcanada\\venv\\lib\\site-packages\\numpy\\_distributor_init.py:30: UserWarning: loaded more than 1 DLL from .libs:\n",
      "f:\\mentalhealthcanada\\venv\\lib\\site-packages\\numpy\\.libs\\libopenblas.WCDJNK7YVMPZQ2ME2ZZHJJRJ3JIKNDB7.gfortran-win_amd64.dll\n",
      "f:\\mentalhealthcanada\\venv\\lib\\site-packages\\numpy\\.libs\\libopenblas.XWYDX2IKJW2NMTWSFYNGFUWKQU3LYTCZ.gfortran-win_amd64.dll\n",
      "  warnings.warn(\"loaded more than 1 DLL from .libs:\"\n"
     ]
    }
   ],
   "source": [
    "import pickle\n",
    "import numpy as np\n",
    "import nltk\n",
    "import json\n",
    "import random\n",
    "from nltk.stem import WordNetLemmatizer\n",
    "from tkinter import *"
   ]
  },
  {
   "cell_type": "markdown",
   "metadata": {},
   "source": [
    "# Importing the created model"
   ]
  },
  {
   "cell_type": "code",
   "execution_count": 2,
   "metadata": {},
   "outputs": [],
   "source": [
    "#from tenshttp://localhost:8890/notebooks/mentalhealthbot.ipynb\n",
    "#Importing-the-created-modelorflow.keras.models import load_model\n",
    "from tensorflow.keras.models import load_model\n",
    "createbot = load_model('mentalhealthbot_model.h5')"
   ]
  },
  {
   "cell_type": "markdown",
   "metadata": {},
   "source": [
    "# Retrieving the intents, words and classes"
   ]
  },
  {
   "cell_type": "code",
   "execution_count": 3,
   "metadata": {},
   "outputs": [],
   "source": [
    "intents = json.loads(open('mentalhealthCanada.json').read())\n",
    "vocabulary = pickle.load(open('vocabulary.pkl','rb'))\n",
    "categories = pickle.load(open('categories.pkl','rb'))"
   ]
  },
  {
   "cell_type": "markdown",
   "metadata": {},
   "source": [
    "# Text pre-processing (Tokenizing and lemmatizing each word)"
   ]
  },
  {
   "cell_type": "code",
   "execution_count": 4,
   "metadata": {},
   "outputs": [],
   "source": [
    "def preprocessing(sentence):\n",
    "    \n",
    "    # Tokenizing the pattern - splitting words into an array\n",
    "    sentences = nltk.word_tokenize(sentence)\n",
    "    \n",
    "    # Lemmatizing each word - creating short forms (lemma) for words\n",
    "    lemma = WordNetLemmatizer()\n",
    "    sentences = [lemma.lemmatize(word.lower()) for word in sentences]\n",
    "    return sentences"
   ]
  },
  {
   "cell_type": "markdown",
   "metadata": {},
   "source": [
    "# Returning the bag of words array = '0' or '1' for each word in the bag of words that exists in the sentence"
   ]
  },
  {
   "cell_type": "code",
   "execution_count": 5,
   "metadata": {},
   "outputs": [],
   "source": [
    "def bagofwords(sentence, words, details=True):\n",
    "    \n",
    "    # Tokenizing the pattern\n",
    "    sentences = preprocessing(sentence)\n",
    "    \n",
    "    # Bag of words - matrix of N words which is the vocabulary matrix\n",
    "    bagofwords = [0]*len(words)  \n",
    "    for s in sentences:\n",
    "        for i,w in enumerate(words):\n",
    "            if w == s: \n",
    "                \n",
    "                # Assigning 1 if the current word exists in the vocabulary position\n",
    "                bagofwords[i] = 1\n",
    "                if details:\n",
    "                    print (\"found in bag: %s\" % w)\n",
    "    return(np.array(bagofwords))"
   ]
  },
  {
   "cell_type": "markdown",
   "metadata": {},
   "source": [
    "# Defining the prediction classes"
   ]
  },
  {
   "cell_type": "code",
   "execution_count": 6,
   "metadata": {},
   "outputs": [],
   "source": [
    "def prediction(sentence, model):\n",
    "    \n",
    "    # Filtering out predictions below a threshold of 0.25\n",
    "    predict = bagofwords(sentence, vocabulary,details=False)\n",
    "    res = model.predict(np.array([predict]))[0]\n",
    "    error_threshold = 0.25\n",
    "    results = [[i,r] for i,r in enumerate(res) if r>error_threshold ]\n",
    "    \n",
    "    # Sorting the results by strength of probability\n",
    "    results.sort(key=lambda x: x[1], reverse=True)\n",
    "    return_list = []\n",
    "    for r in results:\n",
    "        return_list.append({\"intent\": categories[r[0]], \"probability\": str(r[1])})\n",
    "    return return_list"
   ]
  },
  {
   "cell_type": "markdown",
   "metadata": {},
   "source": [
    "# Defining the responses"
   ]
  },
  {
   "cell_type": "code",
   "execution_count": 7,
   "metadata": {},
   "outputs": [],
   "source": [
    "def response(ints, intents_json):\n",
    "    tag = ints[0]['intent']\n",
    "    intents_list = intents_json['intents']\n",
    "    for i in intents_list:\n",
    "        if(i['tag'] == tag):\n",
    "            result = random.choice(i['responses'])\n",
    "            break\n",
    "    return result"
   ]
  },
  {
   "cell_type": "markdown",
   "metadata": {},
   "source": [
    "# Defining chatbot responses based on users input queries"
   ]
  },
  {
   "cell_type": "code",
   "execution_count": 8,
   "metadata": {},
   "outputs": [],
   "source": [
    "def chatbot_response(msg):\n",
    "    ints = prediction(msg, createbot)\n",
    "    res = response(ints, intents)\n",
    "    return res"
   ]
  },
  {
   "cell_type": "markdown",
   "metadata": {},
   "source": [
    "# Creating GUI for the Mental Health Chatbot using tkinter"
   ]
  },
  {
   "cell_type": "code",
   "execution_count": 9,
   "metadata": {},
   "outputs": [
    {
     "data": {
      "text/plain": [
       "''"
      ]
     },
     "execution_count": 9,
     "metadata": {},
     "output_type": "execute_result"
    }
   ],
   "source": [
    "# Chatbot GUI code adapted from Analytics Vidhya\n",
    "# https://www.analyticsvidhya.com/blog/2021/06/learn-to-develop-a-simple-chatbot-using-python-and-deep-learning/\n",
    "\n",
    "def send():\n",
    "    message = input_box.get(\"1.0\",'end-1c').strip()\n",
    "    input_box.delete(\"0.0\",END)\n",
    "\n",
    "    if message != '':\n",
    "        chat.config(state=NORMAL)\n",
    "        chat.insert(END, \"You: \" + message + '\\n\\n')\n",
    "        chat.config(foreground=\"#442265\", font=(\"Verdana\", 12), wrap='word')\n",
    "    \n",
    "        res = chatbot_response(message)\n",
    "        chat.insert(END, \"MHAC: \" + res + '\\n\\n')\n",
    "            \n",
    "        chat.config(state=DISABLED)\n",
    "        chat.yview(END)\n",
    "\n",
    "base = Tk()\n",
    "base.title(\"Mental Health Awareness Canada\")\n",
    "base.geometry(\"400x500\")\n",
    "base.resizable(width=FALSE, height=FALSE)"
   ]
  },
  {
   "cell_type": "markdown",
   "metadata": {},
   "source": [
    "# Creating the Display Window"
   ]
  },
  {
   "cell_type": "code",
   "execution_count": 10,
   "metadata": {},
   "outputs": [],
   "source": [
    "chat = Text(base, bd=0, bg=\"#FBFCFC\", height=\"8\", width=\"50\", font=\"Verdana\",)\n",
    "\n",
    "chat.config(state=DISABLED)"
   ]
  },
  {
   "cell_type": "markdown",
   "metadata": {},
   "source": [
    "# Binding a Scrollbar to the Display Window"
   ]
  },
  {
   "cell_type": "code",
   "execution_count": 11,
   "metadata": {},
   "outputs": [],
   "source": [
    "scrollbar = Scrollbar(base, command=chat.yview, cursor=\"heart\")\n",
    "chat['yscrollcommand'] = scrollbar.set"
   ]
  },
  {
   "cell_type": "markdown",
   "metadata": {},
   "source": [
    "# Creating a 'Send' Button for users to send messages"
   ]
  },
  {
   "cell_type": "code",
   "execution_count": 12,
   "metadata": {},
   "outputs": [],
   "source": [
    "send_button = Button(base, font=(\"Verdana\",12,'bold'), text=\"Send\", width=\"12\", height=5,\n",
    "                    bd=0, bg=\"#F06292\", activebackground=\"#F06292\",fg='#ffffff',\n",
    "                    command= send )"
   ]
  },
  {
   "cell_type": "markdown",
   "metadata": {},
   "source": [
    "# Creating the input box for users to enter messages"
   ]
  },
  {
   "cell_type": "code",
   "execution_count": 13,
   "metadata": {},
   "outputs": [
    {
     "data": {
      "text/plain": [
       "'2385869228224send'"
      ]
     },
     "execution_count": 13,
     "metadata": {},
     "output_type": "execute_result"
    }
   ],
   "source": [
    "input_box = Text(base, bd=0, bg=\"white\",width=\"29\", height=\"5\", font=\"Arial\", wrap='word')\n",
    "input_box.bind(\"<Return>\", send)"
   ]
  },
  {
   "cell_type": "markdown",
   "metadata": {},
   "source": [
    "# Placing all the components for the Chatbot GUI"
   ]
  },
  {
   "cell_type": "code",
   "execution_count": 14,
   "metadata": {
    "pycharm": {
     "name": "#%%\n"
    }
   },
   "outputs": [],
   "source": [
    "input_box.place(x=6, y=440, height=50, width=250)\n",
    "scrollbar.place(x=376,y=6, height=386)\n",
    "chat.place(x=6,y=6, height=425, width=370)\n",
    "send_button.place(x=245, y=440, height=50)\n",
    "base.mainloop()"
   ]
  }
 ],
 "metadata": {
  "kernelspec": {
   "display_name": "Python 3 (ipykernel)",
   "language": "python",
   "name": "python3"
  },
  "language_info": {
   "codemirror_mode": {
    "name": "ipython",
    "version": 3
   },
   "file_extension": ".py",
   "mimetype": "text/x-python",
   "name": "python",
   "nbconvert_exporter": "python",
   "pygments_lexer": "ipython3",
   "version": "3.8.8"
  }
 },
 "nbformat": 4,
 "nbformat_minor": 1
}